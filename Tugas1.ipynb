{
 "cells": [
  {
   "cell_type": "markdown",
   "metadata": {},
   "source": [
    "# Tugas 1 Statistika"
   ]
  },
  {
   "cell_type": "markdown",
   "metadata": {},
   "source": [
    "#### 1. Banyaknya izin mendirikan bangunan yang dikeluarkan untuk 12 perusahaan Real Estat adalah: 4 7 0 7 11 4 1 15 3 5 8 dan 7. Dengan memandang data tersebut merupakan contoh, buatlah:"
   ]
  },
  {
   "cell_type": "code",
   "execution_count": 1,
   "metadata": {},
   "outputs": [],
   "source": [
    "data1 <- read.csv('data1.csv')"
   ]
  },
  {
   "cell_type": "code",
   "execution_count": 2,
   "metadata": {},
   "outputs": [],
   "source": [
    "attach(data1)"
   ]
  },
  {
   "cell_type": "markdown",
   "metadata": {},
   "source": [
    "#### a) Diagram Dahan Daun"
   ]
  },
  {
   "cell_type": "code",
   "execution_count": 3,
   "metadata": {},
   "outputs": [
    {
     "name": "stdout",
     "output_type": "stream",
     "text": [
      "\n",
      "  The decimal point is 1 digit(s) to the right of the |\n",
      "\n",
      "  0 | 0134\n",
      "  0 | 57778\n",
      "  1 | 1\n",
      "  1 | 5\n",
      "\n"
     ]
    }
   ],
   "source": [
    "stem(X4)"
   ]
  },
  {
   "cell_type": "markdown",
   "metadata": {},
   "source": [
    "#### b) Diagram Kotak Garis"
   ]
  },
  {
   "cell_type": "code",
   "execution_count": 4,
   "metadata": {},
   "outputs": [
    {
     "data": {
      "image/png": "[encoded data removed]",
      "text/plain": [
       "plot without title"
      ]
     },
     "metadata": {},
     "output_type": "display_data"
    }
   ],
   "source": [
    "boxplot(X4)"
   ]
  },
  {
   "cell_type": "markdown",
   "metadata": {},
   "source": [
    "#### 5. Data berikut merupakan daya tahan sampai mati, diukur sampai sepersepuluh menit terdekat dari contoh acak 50 lalat yang telah disemprot dengan bahan kimia baru dalam suatu percobaan laboratorium: "
   ]
  },
  {
   "cell_type": "code",
   "execution_count": 11,
   "metadata": {},
   "outputs": [],
   "source": [
    "data = c(2.4,3.2,0.4,2.7,5.3,0.7,3.5,2.1,0.4,6.3,3.9,1.8,2.3,2.8,0.2,2.8,3.1,1.5,3.5,2.0,1.3,0.3,4.3,1.4,1.9,1.6,4.6,1.8,1.7,1.2,2.9,0.9,2.4,3.9,2.5,2.6,3.4,1.3,1.1,2.1,3.7,2.3,2.6,5.9,1.2,2.1,1.5,1.8,2.0,1.7)"
   ]
  },
  {
   "cell_type": "code",
   "execution_count": 12,
   "metadata": {},
   "outputs": [
    {
     "data": {
      "text/html": [
       "<ol class=list-inline>\n",
       "\t<li>2.4</li>\n",
       "\t<li>3.2</li>\n",
       "\t<li>0.4</li>\n",
       "\t<li>2.7</li>\n",
       "\t<li>5.3</li>\n",
       "\t<li>0.7</li>\n",
       "\t<li>3.5</li>\n",
       "\t<li>2.1</li>\n",
       "\t<li>0.4</li>\n",
       "\t<li>6.3</li>\n",
       "\t<li>3.9</li>\n",
       "\t<li>1.8</li>\n",
       "\t<li>2.3</li>\n",
       "\t<li>2.8</li>\n",
       "\t<li>0.2</li>\n",
       "\t<li>2.8</li>\n",
       "\t<li>3.1</li>\n",
       "\t<li>1.5</li>\n",
       "\t<li>3.5</li>\n",
       "\t<li>2</li>\n",
       "\t<li>1.3</li>\n",
       "\t<li>0.3</li>\n",
       "\t<li>4.3</li>\n",
       "\t<li>1.4</li>\n",
       "\t<li>1.9</li>\n",
       "\t<li>1.6</li>\n",
       "\t<li>4.6</li>\n",
       "\t<li>1.8</li>\n",
       "\t<li>1.7</li>\n",
       "\t<li>1.2</li>\n",
       "\t<li>2.9</li>\n",
       "\t<li>0.9</li>\n",
       "\t<li>2.4</li>\n",
       "\t<li>3.9</li>\n",
       "\t<li>2.5</li>\n",
       "\t<li>2.6</li>\n",
       "\t<li>3.4</li>\n",
       "\t<li>1.3</li>\n",
       "\t<li>1.1</li>\n",
       "\t<li>2.1</li>\n",
       "\t<li>3.7</li>\n",
       "\t<li>2.3</li>\n",
       "\t<li>2.6</li>\n",
       "\t<li>5.9</li>\n",
       "\t<li>1.2</li>\n",
       "\t<li>2.1</li>\n",
       "\t<li>1.5</li>\n",
       "\t<li>1.8</li>\n",
       "\t<li>2</li>\n",
       "\t<li>1.7</li>\n",
       "</ol>\n"
      ],
      "text/latex": [
       "\\begin{enumerate*}\n",
       "\\item 2.4\n",
       "\\item 3.2\n",
       "\\item 0.4\n",
       "\\item 2.7\n",
       "\\item 5.3\n",
       "\\item 0.7\n",
       "\\item 3.5\n",
       "\\item 2.1\n",
       "\\item 0.4\n",
       "\\item 6.3\n",
       "\\item 3.9\n",
       "\\item 1.8\n",
       "\\item 2.3\n",
       "\\item 2.8\n",
       "\\item 0.2\n",
       "\\item 2.8\n",
       "\\item 3.1\n",
       "\\item 1.5\n",
       "\\item 3.5\n",
       "\\item 2\n",
       "\\item 1.3\n",
       "\\item 0.3\n",
       "\\item 4.3\n",
       "\\item 1.4\n",
       "\\item 1.9\n",
       "\\item 1.6\n",
       "\\item 4.6\n",
       "\\item 1.8\n",
       "\\item 1.7\n",
       "\\item 1.2\n",
       "\\item 2.9\n",
       "\\item 0.9\n",
       "\\item 2.4\n",
       "\\item 3.9\n",
       "\\item 2.5\n",
       "\\item 2.6\n",
       "\\item 3.4\n",
       "\\item 1.3\n",
       "\\item 1.1\n",
       "\\item 2.1\n",
       "\\item 3.7\n",
       "\\item 2.3\n",
       "\\item 2.6\n",
       "\\item 5.9\n",
       "\\item 1.2\n",
       "\\item 2.1\n",
       "\\item 1.5\n",
       "\\item 1.8\n",
       "\\item 2\n",
       "\\item 1.7\n",
       "\\end{enumerate*}\n"
      ],
      "text/markdown": [
       "1. 2.4\n",
       "2. 3.2\n",
       "3. 0.4\n",
       "4. 2.7\n",
       "5. 5.3\n",
       "6. 0.7\n",
       "7. 3.5\n",
       "8. 2.1\n",
       "9. 0.4\n",
       "10. 6.3\n",
       "11. 3.9\n",
       "12. 1.8\n",
       "13. 2.3\n",
       "14. 2.8\n",
       "15. 0.2\n",
       "16. 2.8\n",
       "17. 3.1\n",
       "18. 1.5\n",
       "19. 3.5\n",
       "20. 2\n",
       "21. 1.3\n",
       "22. 0.3\n",
       "23. 4.3\n",
       "24. 1.4\n",
       "25. 1.9\n",
       "26. 1.6\n",
       "27. 4.6\n",
       "28. 1.8\n",
       "29. 1.7\n",
       "30. 1.2\n",
       "31. 2.9\n",
       "32. 0.9\n",
       "33. 2.4\n",
       "34. 3.9\n",
       "35. 2.5\n",
       "36. 2.6\n",
       "37. 3.4\n",
       "38. 1.3\n",
       "39. 1.1\n",
       "40. 2.1\n",
       "41. 3.7\n",
       "42. 2.3\n",
       "43. 2.6\n",
       "44. 5.9\n",
       "45. 1.2\n",
       "46. 2.1\n",
       "47. 1.5\n",
       "48. 1.8\n",
       "49. 2\n",
       "50. 1.7\n",
       "\n",
       "\n"
      ],
      "text/plain": [
       " [1] 2.4 3.2 0.4 2.7 5.3 0.7 3.5 2.1 0.4 6.3 3.9 1.8 2.3 2.8 0.2 2.8 3.1 1.5 3.5\n",
       "[20] 2.0 1.3 0.3 4.3 1.4 1.9 1.6 4.6 1.8 1.7 1.2 2.9 0.9 2.4 3.9 2.5 2.6 3.4 1.3\n",
       "[39] 1.1 2.1 3.7 2.3 2.6 5.9 1.2 2.1 1.5 1.8 2.0 1.7"
      ]
     },
     "metadata": {},
     "output_type": "display_data"
    }
   ],
   "source": [
    "data"
   ]
  },
  {
   "cell_type": "code",
   "execution_count": 16,
   "metadata": {},
   "outputs": [
    {
     "data": {
      "text/html": [
       "0.2"
      ],
      "text/latex": [
       "0.2"
      ],
      "text/markdown": [
       "0.2"
      ],
      "text/plain": [
       "[1] 0.2"
      ]
     },
     "metadata": {},
     "output_type": "display_data"
    }
   ],
   "source": [
    "min(data)"
   ]
  },
  {
   "cell_type": "code",
   "execution_count": 17,
   "metadata": {},
   "outputs": [
    {
     "data": {
      "text/html": [
       "6.3"
      ],
      "text/latex": [
       "6.3"
      ],
      "text/markdown": [
       "6.3"
      ],
      "text/plain": [
       "[1] 6.3"
      ]
     },
     "metadata": {},
     "output_type": "display_data"
    }
   ],
   "source": [
    "max(data)"
   ]
  },
  {
   "cell_type": "code",
   "execution_count": 18,
   "metadata": {},
   "outputs": [
    {
     "data": {
      "text/html": [
       "50"
      ],
      "text/latex": [
       "50"
      ],
      "text/markdown": [
       "50"
      ],
      "text/plain": [
       "[1] 50"
      ]
     },
     "metadata": {},
     "output_type": "display_data"
    }
   ],
   "source": [
    "length(data)"
   ]
  },
  {
   "cell_type": "code",
   "execution_count": 19,
   "metadata": {},
   "outputs": [
    {
     "data": {
      "text/html": [
       "<ol class=list-inline>\n",
       "\t<li>0.2</li>\n",
       "\t<li>0.3</li>\n",
       "\t<li>0.4</li>\n",
       "\t<li>0.4</li>\n",
       "\t<li>0.7</li>\n",
       "\t<li>0.9</li>\n",
       "\t<li>1.1</li>\n",
       "\t<li>1.2</li>\n",
       "\t<li>1.2</li>\n",
       "\t<li>1.3</li>\n",
       "\t<li>1.3</li>\n",
       "\t<li>1.4</li>\n",
       "\t<li>1.5</li>\n",
       "\t<li>1.5</li>\n",
       "\t<li>1.6</li>\n",
       "\t<li>1.7</li>\n",
       "\t<li>1.7</li>\n",
       "\t<li>1.8</li>\n",
       "\t<li>1.8</li>\n",
       "\t<li>1.8</li>\n",
       "\t<li>1.9</li>\n",
       "\t<li>2</li>\n",
       "\t<li>2</li>\n",
       "\t<li>2.1</li>\n",
       "\t<li>2.1</li>\n",
       "\t<li>2.1</li>\n",
       "\t<li>2.3</li>\n",
       "\t<li>2.3</li>\n",
       "\t<li>2.4</li>\n",
       "\t<li>2.4</li>\n",
       "\t<li>2.5</li>\n",
       "\t<li>2.6</li>\n",
       "\t<li>2.6</li>\n",
       "\t<li>2.7</li>\n",
       "\t<li>2.8</li>\n",
       "\t<li>2.8</li>\n",
       "\t<li>2.9</li>\n",
       "\t<li>3.1</li>\n",
       "\t<li>3.2</li>\n",
       "\t<li>3.4</li>\n",
       "\t<li>3.5</li>\n",
       "\t<li>3.5</li>\n",
       "\t<li>3.7</li>\n",
       "\t<li>3.9</li>\n",
       "\t<li>3.9</li>\n",
       "\t<li>4.3</li>\n",
       "\t<li>4.6</li>\n",
       "\t<li>5.3</li>\n",
       "\t<li>5.9</li>\n",
       "\t<li>6.3</li>\n",
       "</ol>\n"
      ],
      "text/latex": [
       "\\begin{enumerate*}\n",
       "\\item 0.2\n",
       "\\item 0.3\n",
       "\\item 0.4\n",
       "\\item 0.4\n",
       "\\item 0.7\n",
       "\\item 0.9\n",
       "\\item 1.1\n",
       "\\item 1.2\n",
       "\\item 1.2\n",
       "\\item 1.3\n",
       "\\item 1.3\n",
       "\\item 1.4\n",
       "\\item 1.5\n",
       "\\item 1.5\n",
       "\\item 1.6\n",
       "\\item 1.7\n",
       "\\item 1.7\n",
       "\\item 1.8\n",
       "\\item 1.8\n",
       "\\item 1.8\n",
       "\\item 1.9\n",
       "\\item 2\n",
       "\\item 2\n",
       "\\item 2.1\n",
       "\\item 2.1\n",
       "\\item 2.1\n",
       "\\item 2.3\n",
       "\\item 2.3\n",
       "\\item 2.4\n",
       "\\item 2.4\n",
       "\\item 2.5\n",
       "\\item 2.6\n",
       "\\item 2.6\n",
       "\\item 2.7\n",
       "\\item 2.8\n",
       "\\item 2.8\n",
       "\\item 2.9\n",
       "\\item 3.1\n",
       "\\item 3.2\n",
       "\\item 3.4\n",
       "\\item 3.5\n",
       "\\item 3.5\n",
       "\\item 3.7\n",
       "\\item 3.9\n",
       "\\item 3.9\n",
       "\\item 4.3\n",
       "\\item 4.6\n",
       "\\item 5.3\n",
       "\\item 5.9\n",
       "\\item 6.3\n",
       "\\end{enumerate*}\n"
      ],
      "text/markdown": [
       "1. 0.2\n",
       "2. 0.3\n",
       "3. 0.4\n",
       "4. 0.4\n",
       "5. 0.7\n",
       "6. 0.9\n",
       "7. 1.1\n",
       "8. 1.2\n",
       "9. 1.2\n",
       "10. 1.3\n",
       "11. 1.3\n",
       "12. 1.4\n",
       "13. 1.5\n",
       "14. 1.5\n",
       "15. 1.6\n",
       "16. 1.7\n",
       "17. 1.7\n",
       "18. 1.8\n",
       "19. 1.8\n",
       "20. 1.8\n",
       "21. 1.9\n",
       "22. 2\n",
       "23. 2\n",
       "24. 2.1\n",
       "25. 2.1\n",
       "26. 2.1\n",
       "27. 2.3\n",
       "28. 2.3\n",
       "29. 2.4\n",
       "30. 2.4\n",
       "31. 2.5\n",
       "32. 2.6\n",
       "33. 2.6\n",
       "34. 2.7\n",
       "35. 2.8\n",
       "36. 2.8\n",
       "37. 2.9\n",
       "38. 3.1\n",
       "39. 3.2\n",
       "40. 3.4\n",
       "41. 3.5\n",
       "42. 3.5\n",
       "43. 3.7\n",
       "44. 3.9\n",
       "45. 3.9\n",
       "46. 4.3\n",
       "47. 4.6\n",
       "48. 5.3\n",
       "49. 5.9\n",
       "50. 6.3\n",
       "\n",
       "\n"
      ],
      "text/plain": [
       " [1] 0.2 0.3 0.4 0.4 0.7 0.9 1.1 1.2 1.2 1.3 1.3 1.4 1.5 1.5 1.6 1.7 1.7 1.8 1.8\n",
       "[20] 1.8 1.9 2.0 2.0 2.1 2.1 2.1 2.3 2.3 2.4 2.4 2.5 2.6 2.6 2.7 2.8 2.8 2.9 3.1\n",
       "[39] 3.2 3.4 3.5 3.5 3.7 3.9 3.9 4.3 4.6 5.3 5.9 6.3"
      ]
     },
     "metadata": {},
     "output_type": "display_data"
    }
   ],
   "source": [
    "sort(data)"
   ]
  },
  {
   "cell_type": "code",
   "execution_count": 23,
   "metadata": {},
   "outputs": [],
   "source": [
    "BS = 8"
   ]
  },
  {
   "cell_type": "code",
   "execution_count": 25,
   "metadata": {},
   "outputs": [],
   "source": [
    "W = max(data)-min(data)"
   ]
  },
  {
   "cell_type": "code",
   "execution_count": 26,
   "metadata": {},
   "outputs": [
    {
     "data": {
      "text/html": [
       "6.1"
      ],
      "text/latex": [
       "6.1"
      ],
      "text/markdown": [
       "6.1"
      ],
      "text/plain": [
       "[1] 6.1"
      ]
     },
     "metadata": {},
     "output_type": "display_data"
    }
   ],
   "source": [
    "W"
   ]
  },
  {
   "cell_type": "code",
   "execution_count": 27,
   "metadata": {},
   "outputs": [],
   "source": [
    "LS = W/BS"
   ]
  },
  {
   "cell_type": "code",
   "execution_count": 30,
   "metadata": {},
   "outputs": [
    {
     "data": {
      "text/html": [
       "0.7625"
      ],
      "text/latex": [
       "0.7625"
      ],
      "text/markdown": [
       "0.7625"
      ],
      "text/plain": [
       "[1] 0.7625"
      ]
     },
     "metadata": {},
     "output_type": "display_data"
    }
   ],
   "source": [
    "LS"
   ]
  },
  {
   "cell_type": "code",
   "execution_count": 31,
   "metadata": {},
   "outputs": [
    {
     "data": {
      "text/html": [
       "1"
      ],
      "text/latex": [
       "1"
      ],
      "text/markdown": [
       "1"
      ],
      "text/plain": [
       "[1] 1"
      ]
     },
     "metadata": {},
     "output_type": "display_data"
    }
   ],
   "source": [
    "round(LS)"
   ]
  },
  {
   "cell_type": "code",
   "execution_count": 34,
   "metadata": {},
   "outputs": [],
   "source": [
    "library(IRdisplay)"
   ]
  },
  {
   "cell_type": "code",
   "execution_count": 35,
   "metadata": {},
   "outputs": [
    {
     "ename": "ERROR",
     "evalue": "Error in edit(data.frame()): 'edit()' not yet supported in the Jupyter R kernel\n",
     "output_type": "error",
     "traceback": [
      "Error in edit(data.frame()): 'edit()' not yet supported in the Jupyter R kernel\nTraceback:\n",
      "1. edit(data.frame())",
      "2. stop(sQuote(\"edit()\"), \" not yet supported in the Jupyter R kernel\")"
     ]
    }
   ],
   "source": [
    "tabel=edit(data.frame())"
   ]
  },
  {
   "cell_type": "code",
   "execution_count": null,
   "metadata": {},
   "outputs": [],
   "source": []
  }
 ],
 "metadata": {
  "hide_input": false,
  "kernelspec": {
   "display_name": "R",
   "language": "R",
   "name": "ir"
  },
  "language_info": {
   "codemirror_mode": "r",
   "file_extension": ".r",
   "mimetype": "text/x-r-source",
   "name": "R",
   "pygments_lexer": "r",
   "version": "3.6.1"
  }
 },
 "nbformat": 4,
 "nbformat_minor": 2
}
